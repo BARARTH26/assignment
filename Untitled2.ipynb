{
  "nbformat": 4,
  "nbformat_minor": 0,
  "metadata": {
    "colab": {
      "name": "Untitled2.ipynb",
      "provenance": [],
      "authorship_tag": "ABX9TyOrw7A1ho5snMIzKnkJ8l8B",
      "include_colab_link": true
    },
    "kernelspec": {
      "name": "python3",
      "display_name": "Python 3"
    }
  },
  "cells": [
    {
      "cell_type": "markdown",
      "metadata": {
        "id": "view-in-github",
        "colab_type": "text"
      },
      "source": [
        "<a href=\"https://colab.research.google.com/github/BARARTH26/assignment/blob/master/Untitled2.ipynb\" target=\"_parent\"><img src=\"https://colab.research.google.com/assets/colab-badge.svg\" alt=\"Open In Colab\"/></a>"
      ]
    },
    {
      "cell_type": "markdown",
      "metadata": {
        "id": "CgYuSx0nKuOE",
        "colab_type": "text"
      },
      "source": [
        "Hi, My Name is PERIYASAMY.P, From Coimbatore(TAMILNADU).\n",
        "\n",
        "This is day 3- ASSIGNMENT 1\n"
      ]
    },
    {
      "cell_type": "code",
      "metadata": {
        "id": "jpjt_mXu0KnW",
        "colab_type": "code",
        "colab": {
          "base_uri": "https://localhost:8080/",
          "height": 51
        },
        "outputId": "e6de2c21-48a3-452a-b68a-eeb038bf3b01"
      },
      "source": [
        "num = float(input(\"enter the number\"))\n",
        "if num >= 1000:\n",
        "  if num > 1000 and num < 5000:\n",
        "    print(\"Bring it further down to 1000 ft\")\n",
        "  else:\n",
        "    print(\"Turn around and Attempt later\")\n",
        "else:\n",
        "  print(\"Land the Plane\")"
      ],
      "execution_count": 39,
      "outputs": [
        {
          "output_type": "stream",
          "text": [
            "enter the number500\n",
            "Land the Plane\n"
          ],
          "name": "stdout"
        }
      ]
    },
    {
      "cell_type": "markdown",
      "metadata": {
        "id": "0eHT8hHDKsIf",
        "colab_type": "text"
      },
      "source": [
        "\n",
        "This is day 3- ASSIGNMENT 1\n"
      ]
    },
    {
      "cell_type": "code",
      "metadata": {
        "id": "cJNUe-CrW4sH",
        "colab_type": "code",
        "colab": {
          "base_uri": "https://localhost:8080/",
          "height": 816
        },
        "outputId": "201a16c0-15f9-4546-f677-f683eec8b1e5"
      },
      "source": [
        "lower = 1\n",
        "upper = 200\n",
        "for num in range(lower,upper):\n",
        "   if num >= 1:\n",
        "       for i in range(2,num):\n",
        "           if (num % i) == 0:\n",
        "               break\n",
        "       else:\n",
        "           print(num)"
      ],
      "execution_count": 86,
      "outputs": [
        {
          "output_type": "stream",
          "text": [
            "1\n",
            "2\n",
            "3\n",
            "5\n",
            "7\n",
            "11\n",
            "13\n",
            "17\n",
            "19\n",
            "23\n",
            "29\n",
            "31\n",
            "37\n",
            "41\n",
            "43\n",
            "47\n",
            "53\n",
            "59\n",
            "61\n",
            "67\n",
            "71\n",
            "73\n",
            "79\n",
            "83\n",
            "89\n",
            "97\n",
            "101\n",
            "103\n",
            "107\n",
            "109\n",
            "113\n",
            "127\n",
            "131\n",
            "137\n",
            "139\n",
            "149\n",
            "151\n",
            "157\n",
            "163\n",
            "167\n",
            "173\n",
            "179\n",
            "181\n",
            "191\n",
            "193\n",
            "197\n",
            "199\n"
          ],
          "name": "stdout"
        }
      ]
    },
    {
      "cell_type": "code",
      "metadata": {
        "id": "iCw_jBnhYI6n",
        "colab_type": "code",
        "colab": {}
      },
      "source": [
        ""
      ],
      "execution_count": null,
      "outputs": []
    }
  ]
}