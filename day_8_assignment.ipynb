{
  "nbformat": 4,
  "nbformat_minor": 0,
  "metadata": {
    "colab": {
      "name": "day 8 assignment.ipynb",
      "provenance": [],
      "collapsed_sections": [],
      "authorship_tag": "ABX9TyOwCBTNKk2zlaW6IlC+9sqD",
      "include_colab_link": true
    },
    "kernelspec": {
      "name": "python3",
      "display_name": "Python 3"
    },
    "accelerator": "GPU"
  },
  "cells": [
    {
      "cell_type": "markdown",
      "metadata": {
        "id": "view-in-github",
        "colab_type": "text"
      },
      "source": [
        "<a href=\"https://colab.research.google.com/github/BARARTH26/assignment/blob/master/day_8_assignment.ipynb\" target=\"_parent\"><img src=\"https://colab.research.google.com/assets/colab-badge.svg\" alt=\"Open In Colab\"/></a>"
      ]
    },
    {
      "cell_type": "markdown",
      "metadata": {
        "id": "5toD_Zna_7Oz",
        "colab_type": "text"
      },
      "source": [
        "Hi,My name is P.PERIYASAMY,From Coimbatore(TAMILNADU)\n",
        "\n"
      ]
    },
    {
      "cell_type": "markdown",
      "metadata": {
        "id": "2RTcOXUZABP_",
        "colab_type": "text"
      },
      "source": [
        "ASSIGNMENT 1 - DAY 8\n",
        "\n",
        "progranm of fibonacci series with using decorador function\n"
      ]
    },
    {
      "cell_type": "code",
      "metadata": {
        "id": "SS1Iqvy3bvRB",
        "colab_type": "code",
        "colab": {
          "base_uri": "https://localhost:8080/",
          "height": 941
        },
        "outputId": "35a21d78-1d30-4bd6-f6a2-7a99d0a3816d"
      },
      "source": [
        "def getinput(num):\n",
        "    def getnum():\n",
        "        n= int(input(\"enter the number\"))\n",
        "        num(n)\n",
        "    return getnum\n",
        "@getinput\n",
        "def fibonacise(a):\n",
        "    previousnumber = 0\n",
        "    nextnumber = 1\n",
        "    print(\"1\")\n",
        "    for i in range(0,a):\n",
        "        newnumber = nextnumber + previousnumber\n",
        "        previousnumber = nextnumber\n",
        "        nextnumber = newnumber\n",
        "        print(newnumber)\n",
        "fibonacise() "
      ],
      "execution_count": 17,
      "outputs": [
        {
          "output_type": "stream",
          "text": [
            "enter the number50\n",
            "1\n",
            "1\n",
            "2\n",
            "3\n",
            "5\n",
            "8\n",
            "13\n",
            "21\n",
            "34\n",
            "55\n",
            "89\n",
            "144\n",
            "233\n",
            "377\n",
            "610\n",
            "987\n",
            "1597\n",
            "2584\n",
            "4181\n",
            "6765\n",
            "10946\n",
            "17711\n",
            "28657\n",
            "46368\n",
            "75025\n",
            "121393\n",
            "196418\n",
            "317811\n",
            "514229\n",
            "832040\n",
            "1346269\n",
            "2178309\n",
            "3524578\n",
            "5702887\n",
            "9227465\n",
            "14930352\n",
            "24157817\n",
            "39088169\n",
            "63245986\n",
            "102334155\n",
            "165580141\n",
            "267914296\n",
            "433494437\n",
            "701408733\n",
            "1134903170\n",
            "1836311903\n",
            "2971215073\n",
            "4807526976\n",
            "7778742049\n",
            "12586269025\n",
            "20365011074\n"
          ],
          "name": "stdout"
        }
      ]
    },
    {
      "cell_type": "markdown",
      "metadata": {
        "id": "x3VmlDbnA_sV",
        "colab_type": "text"
      },
      "source": [
        "ASSIGNMENT 2 - DAY 8\n",
        "\n",
        "python program of open a file read only mode and  handling the subsequent errors using Exception handling\n"
      ]
    },
    {
      "cell_type": "code",
      "metadata": {
        "id": "bp0JmmuLNn__",
        "colab_type": "code",
        "colab": {
          "base_uri": "https://localhost:8080/",
          "height": 70
        },
        "outputId": "b07b5aac-ee7a-426e-d37c-6b0e5ce491fc"
      },
      "source": [
        "file = open(\"untitled6.py\",\"r\")\n",
        "\n",
        "try:\n",
        "    file.write(\"HI Guys\")\n",
        "except Exception as e:\n",
        "    print(\"There was an error in the file handling \")\n",
        "    print(\"Error was - \", e)\n",
        "finally:\n",
        "    file.close()\n",
        "    \n",
        "print(\"Hey guys, rate the session as of right now\")"
      ],
      "execution_count": null,
      "outputs": [
        {
          "output_type": "stream",
          "text": [
            "There was an error in the file handling \n",
            "Error was -  not writable\n",
            "Hey guys, rate the session as of right now\n"
          ],
          "name": "stdout"
        }
      ]
    },
    {
      "cell_type": "code",
      "metadata": {
        "id": "XzN3vbayj1Pt",
        "colab_type": "code",
        "colab": {}
      },
      "source": [
        ""
      ],
      "execution_count": null,
      "outputs": []
    }
  ]
}