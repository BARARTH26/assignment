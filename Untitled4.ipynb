{
  "nbformat": 4,
  "nbformat_minor": 0,
  "metadata": {
    "colab": {
      "name": "Untitled4.ipynb",
      "provenance": [],
      "collapsed_sections": [],
      "authorship_tag": "ABX9TyNuJvH8zKk4d9r4kJ0v/npq",
      "include_colab_link": true
    },
    "kernelspec": {
      "name": "python3",
      "display_name": "Python 3"
    }
  },
  "cells": [
    {
      "cell_type": "markdown",
      "metadata": {
        "id": "view-in-github",
        "colab_type": "text"
      },
      "source": [
        "<a href=\"https://colab.research.google.com/github/BARARTH26/assignment/blob/master/Untitled4.ipynb\" target=\"_parent\"><img src=\"https://colab.research.google.com/assets/colab-badge.svg\" alt=\"Open In Colab\"/></a>"
      ]
    },
    {
      "cell_type": "markdown",
      "metadata": {
        "id": "0vHGB2ld1g3J",
        "colab_type": "text"
      },
      "source": [
        "Hi,My name is P.PERIYASAMY,From Coimbatore(TAMILNADU)\n",
        "\n"
      ]
    },
    {
      "cell_type": "markdown",
      "metadata": {
        "id": "-vgdGiYyKIaJ",
        "colab_type": "text"
      },
      "source": [
        "ASSIGNMENT 1 - DAY 5\n",
        "\n",
        "Find the sublist in main list using function\n",
        "\n"
      ]
    },
    {
      "cell_type": "code",
      "metadata": {
        "id": "GP4dvrsGbevk",
        "colab_type": "code",
        "colab": {
          "base_uri": "https://localhost:8080/",
          "height": 51
        },
        "outputId": "65c3f9d0-2aa7-4864-bf90-d4f2d7538a81"
      },
      "source": [
        "#  Sir,this is my own program but not get the exact Answer ..\n",
        "def sub_list(a,b):\n",
        "    Ans = \"it's gone\"\n",
        "    for i in a:\n",
        "        for j in b:\n",
        "            if i== j :\n",
        "                 Ans = \"it's match\"\n",
        "                 return Ans\n",
        "    return Ans\n",
        "    \n",
        "    \n",
        "a=[1,5,6,4,1,2,3,5]\n",
        "b=[1,1,5]\n",
        "print(sub_list(a,b))\n",
        "c=[1,5,6,5,1,2,3,6]\n",
        "d=[1,1,5]\n",
        "print(sub_list(c,d))"
      ],
      "execution_count": 15,
      "outputs": [
        {
          "output_type": "stream",
          "text": [
            "it's match\n",
            "it's match\n"
          ],
          "name": "stdout"
        }
      ]
    },
    {
      "cell_type": "code",
      "metadata": {
        "id": "LwhRnRTPACH6",
        "colab_type": "code",
        "colab": {
          "base_uri": "https://localhost:8080/",
          "height": 188
        },
        "outputId": "61417cba-3664-4a5b-f9be-7d78ba36f574"
      },
      "source": [
        "# Sir, this program i refered to your previous solution....\n",
        "def get_list():\n",
        "    List=[]\n",
        "    i=0\n",
        "    while i < 8:\n",
        "        val = int(input(f\"Enter number {i+1}: \"))\n",
        "        List.append(val)\n",
        "        i+=1\n",
        "    return List\n",
        "def check(a):\n",
        "    subList = [1,1,5]\n",
        "    for i in a:\n",
        "        for j in subList:\n",
        "            if(len(subList)>=0 and j == i):\n",
        "                subList.pop(0)\n",
        "            else:\n",
        "                break\n",
        "    \n",
        "    if len(subList)==0:\n",
        "        return \"It's a match\"\n",
        "    else:\n",
        "        return \"It's gone\"\n",
        "\n",
        "#Main\n",
        "supList = get_list()        \n",
        "print(\"Provided List is :\",supList)\n",
        "check(supList)"
      ],
      "execution_count": 14,
      "outputs": [
        {
          "output_type": "stream",
          "text": [
            "Enter number 1: 1\n",
            "Enter number 2: 5\n",
            "Enter number 3: 6\n",
            "Enter number 4: 4\n",
            "Enter number 5: 1\n",
            "Enter number 6: 2\n",
            "Enter number 7: 3\n",
            "Enter number 8: 6\n",
            "Provided List is : [1, 5, 6, 4, 1, 2, 3, 6]\n"
          ],
          "name": "stdout"
        },
        {
          "output_type": "execute_result",
          "data": {
            "application/vnd.google.colaboratory.intrinsic+json": {
              "type": "string"
            },
            "text/plain": [
              "\"It's gone\""
            ]
          },
          "metadata": {
            "tags": []
          },
          "execution_count": 14
        }
      ]
    },
    {
      "cell_type": "markdown",
      "metadata": {
        "id": "wt0g23h9Jsyo",
        "colab_type": "text"
      },
      "source": [
        "ASSIGNMENT 2 - DAY 5\n",
        "\n",
        "Find the prime number by using fiter function"
      ]
    },
    {
      "cell_type": "code",
      "metadata": {
        "id": "6ds7EfA2gAUG",
        "colab_type": "code",
        "colab": {
          "base_uri": "https://localhost:8080/",
          "height": 54
        },
        "outputId": "824ce1ea-0dc6-4bcc-b102-dacb36dd1a9e"
      },
      "source": [
        "def prime(i):\n",
        "\n",
        "            for j in range(2,i):\n",
        "                if (i%j) ==  0:\n",
        "                    return False\n",
        "                    break\n",
        "            else:\n",
        "                return True\n",
        "\n",
        "lst = list(range(2501))\n",
        "lst_prime = filter(prime,lst)\n",
        "print(list (lst_prime))\n",
        "\n"
      ],
      "execution_count": null,
      "outputs": [
        {
          "output_type": "stream",
          "text": [
            "[0, 1, 2, 3, 5, 7, 11, 13, 17, 19, 23, 29, 31, 37, 41, 43, 47, 53, 59, 61, 67, 71, 73, 79, 83, 89, 97, 101, 103, 107, 109, 113, 127, 131, 137, 139, 149, 151, 157, 163, 167, 173, 179, 181, 191, 193, 197, 199, 211, 223, 227, 229, 233, 239, 241, 251, 257, 263, 269, 271, 277, 281, 283, 293, 307, 311, 313, 317, 331, 337, 347, 349, 353, 359, 367, 373, 379, 383, 389, 397, 401, 409, 419, 421, 431, 433, 439, 443, 449, 457, 461, 463, 467, 479, 487, 491, 499, 503, 509, 521, 523, 541, 547, 557, 563, 569, 571, 577, 587, 593, 599, 601, 607, 613, 617, 619, 631, 641, 643, 647, 653, 659, 661, 673, 677, 683, 691, 701, 709, 719, 727, 733, 739, 743, 751, 757, 761, 769, 773, 787, 797, 809, 811, 821, 823, 827, 829, 839, 853, 857, 859, 863, 877, 881, 883, 887, 907, 911, 919, 929, 937, 941, 947, 953, 967, 971, 977, 983, 991, 997, 1009, 1013, 1019, 1021, 1031, 1033, 1039, 1049, 1051, 1061, 1063, 1069, 1087, 1091, 1093, 1097, 1103, 1109, 1117, 1123, 1129, 1151, 1153, 1163, 1171, 1181, 1187, 1193, 1201, 1213, 1217, 1223, 1229, 1231, 1237, 1249, 1259, 1277, 1279, 1283, 1289, 1291, 1297, 1301, 1303, 1307, 1319, 1321, 1327, 1361, 1367, 1373, 1381, 1399, 1409, 1423, 1427, 1429, 1433, 1439, 1447, 1451, 1453, 1459, 1471, 1481, 1483, 1487, 1489, 1493, 1499, 1511, 1523, 1531, 1543, 1549, 1553, 1559, 1567, 1571, 1579, 1583, 1597, 1601, 1607, 1609, 1613, 1619, 1621, 1627, 1637, 1657, 1663, 1667, 1669, 1693, 1697, 1699, 1709, 1721, 1723, 1733, 1741, 1747, 1753, 1759, 1777, 1783, 1787, 1789, 1801, 1811, 1823, 1831, 1847, 1861, 1867, 1871, 1873, 1877, 1879, 1889, 1901, 1907, 1913, 1931, 1933, 1949, 1951, 1973, 1979, 1987, 1993, 1997, 1999, 2003, 2011, 2017, 2027, 2029, 2039, 2053, 2063, 2069, 2081, 2083, 2087, 2089, 2099, 2111, 2113, 2129, 2131, 2137, 2141, 2143, 2153, 2161, 2179, 2203, 2207, 2213, 2221, 2237, 2239, 2243, 2251, 2267, 2269, 2273, 2281, 2287, 2293, 2297, 2309, 2311, 2333, 2339, 2341, 2347, 2351, 2357, 2371, 2377, 2381, 2383, 2389, 2393, 2399, 2411, 2417, 2423, 2437, 2441, 2447, 2459, 2467, 2473, 2477]\n"
          ],
          "name": "stdout"
        }
      ]
    },
    {
      "cell_type": "markdown",
      "metadata": {
        "id": "c79bovEDZeyZ",
        "colab_type": "text"
      },
      "source": [
        "ASSIGNMENT 3 - DAY 5\n",
        "\n",
        "Make a lambda function for capitalizing \n",
        "\n"
      ]
    },
    {
      "cell_type": "code",
      "metadata": {
        "id": "zxs2TApWv4J_",
        "colab_type": "code",
        "colab": {
          "base_uri": "https://localhost:8080/",
          "height": 34
        },
        "outputId": "88a0922b-1179-430d-994c-510cad0aa814"
      },
      "source": [
        "data = [\"hey\", \"this\",\"is\",\"sai\",\",\",\"i\",\"am\",\"in\",\"mumbai\"]\n",
        "cap = map(lambda st:st.capitalize(),data)\n",
        "word = (list (cap))\n",
        "out = []\n",
        "now = ' '.join(word)\n",
        "out.append(now)\n",
        "print(out)\n"
      ],
      "execution_count": null,
      "outputs": [
        {
          "output_type": "stream",
          "text": [
            "['Hey This Is Sai , I Am In Mumbai']\n"
          ],
          "name": "stdout"
        }
      ]
    },
    {
      "cell_type": "code",
      "metadata": {
        "id": "_HIA9r0TtniU",
        "colab_type": "code",
        "colab": {
          "base_uri": "https://localhost:8080/",
          "height": 34
        },
        "outputId": "927ba9f6-1966-4b46-f795-b907c55bcba2"
      },
      "source": [
        "data = [\"hey this is sai , I i am in mumbai...\"]\n",
        "cap = map(lambda st:st.title(),data)\n",
        "print(list(cap))"
      ],
      "execution_count": 1,
      "outputs": [
        {
          "output_type": "stream",
          "text": [
            "['Hey This Is Sai , I I Am In Mumbai...']\n"
          ],
          "name": "stdout"
        }
      ]
    },
    {
      "cell_type": "code",
      "metadata": {
        "id": "vqutlGVStyTt",
        "colab_type": "code",
        "colab": {}
      },
      "source": [
        ""
      ],
      "execution_count": null,
      "outputs": []
    }
  ]
}