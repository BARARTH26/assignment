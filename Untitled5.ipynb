{
  "nbformat": 4,
  "nbformat_minor": 0,
  "metadata": {
    "colab": {
      "name": "Untitled5.ipynb",
      "provenance": [],
      "collapsed_sections": [],
      "authorship_tag": "ABX9TyPtW/2P4hndr1Bcp5zTzZhH",
      "include_colab_link": true
    },
    "kernelspec": {
      "name": "python3",
      "display_name": "Python 3"
    }
  },
  "cells": [
    {
      "cell_type": "markdown",
      "metadata": {
        "id": "view-in-github",
        "colab_type": "text"
      },
      "source": [
        "<a href=\"https://colab.research.google.com/github/BARARTH26/assignment/blob/master/Untitled5.ipynb\" target=\"_parent\"><img src=\"https://colab.research.google.com/assets/colab-badge.svg\" alt=\"Open In Colab\"/></a>"
      ]
    },
    {
      "cell_type": "markdown",
      "metadata": {
        "id": "_FKOVnbbzWuN",
        "colab_type": "text"
      },
      "source": [
        "Hi,My name is P.PERIYASAMY,From Coimbatore(TAMILNADU)"
      ]
    },
    {
      "cell_type": "markdown",
      "metadata": {
        "id": "uGqjUjgfz4pD",
        "colab_type": "text"
      },
      "source": [
        "ASSIGNMENT 1 - DAY 6\n",
        "\n",
        "Create a bank balance  class for find the Deposit and Withdrawl Details.\n",
        "\n"
      ]
    },
    {
      "cell_type": "code",
      "metadata": {
        "id": "CI2T82NyrLkF",
        "colab_type": "code",
        "colab": {
          "base_uri": "https://localhost:8080/",
          "height": 119
        },
        "outputId": "df503952-a583-4ca5-970c-b9f91ff2854e"
      },
      "source": [
        "class Bank_Balance():\n",
        "    def __init__(self,ownername,Available_balance):\n",
        "        self.ownername = ownername\n",
        "        self.Available_balance = Available_balance\n",
        "    def deposit(self,Amt_Deposit):\n",
        "        self.Amt_Deposit   = Amt_Deposit\n",
        "        print(\"Ownername--> \",self.ownername)\n",
        "        print(\"Available Balance--> \",self.Available_balance)\n",
        "        print(\"Deposit_amt--> \",self.Amt_Deposit)\n",
        "       # Total_Balance = self.Available_balance+self.Amt_Deposit\n",
        "        print(\"Total balance --> \",self.Available_balance+self.Amt_Deposit)\n",
        "    def withdrawl(self,Initial_Amt,withdrawl_Amt):\n",
        "        self.withdrawl_Amt   = withdrawl_Amt\n",
        "        self.Initial_amt = Initial_Amt\n",
        "        print(\"withdrawl Amount--> \",self.withdrawl_Amt)\n",
        "        self.a = (self.Available_balance+self.Amt_Deposit)-self.withdrawl_Amt\n",
        "        if self.a < 0:\n",
        "            print (\"YOU ARE NOT GET THE MONEY BECAUSE YOUR BALANCE IS LOW\")\n",
        "            print(\"Your Total Balance--> \",self.Available_balance+self.Amt_Deposit)\n",
        "        else:\n",
        "            print(\"Total_Balance-->\",(self.Available_balance+self.Amt_Deposit)-self.withdrawl_Amt)\n",
        "Account = Bank_Balance(\"barath\",1000)\n",
        "Account.deposit(0)\n",
        "Account.withdrawl(0,1000)"
      ],
      "execution_count": 51,
      "outputs": [
        {
          "output_type": "stream",
          "text": [
            "Ownername-->  barath\n",
            "Available Balance-->  1000\n",
            "Deposit_amt-->  0\n",
            "Total balance -->  1000\n",
            "withdrawl Amount-->  1000\n",
            "Total_Balance--> 0\n"
          ],
          "name": "stdout"
        }
      ]
    },
    {
      "cell_type": "markdown",
      "metadata": {
        "id": "xjoJJpQr7vXq",
        "colab_type": "text"
      },
      "source": [
        "ASSIGNMENT 2 - DAY 6\n",
        "\n",
        "Create a cone class for find the Volume and Surface Area\n",
        "\n"
      ]
    },
    {
      "cell_type": "code",
      "metadata": {
        "id": "tuC1_hGDpEGp",
        "colab_type": "code",
        "colab": {
          "base_uri": "https://localhost:8080/",
          "height": 68
        },
        "outputId": "d6914363-e5b7-4f8b-ca1e-c1994a611b33"
      },
      "source": [
        "class cone():\n",
        "     def __init__(self,Radius,Height):\n",
        "        self.Radius = Radius\n",
        "        self.Height = Height\n",
        "     def Volume(self):\n",
        "         print(\"VOLUME OF CONE --> \",3.14 * (self.Radius*self.Radius) *(self.Height/3))\n",
        "     def Surface_Area(self):\n",
        "          print(\"BASE OF CONE --> \",3.14 * (self.Radius*self.Radius))\n",
        "          print(\"SIDE OF CONE--> \",3.14 * self.Radius * (0.5**((self.Radius**2)+(self.Height**2))))\n",
        "part_volume = cone(4,7)\n",
        "part_volume.Volume()\n",
        "part_Surface_Area= cone(3,5)\n",
        "part_Surface_Area.Surface_Area()        "
      ],
      "execution_count": 67,
      "outputs": [
        {
          "output_type": "stream",
          "text": [
            "VOLUME OF CONE -->  117.22666666666667\n",
            "BASE OF CONE -->  28.26\n",
            "SIDE OF CONE-->  5.48316165804863e-10\n"
          ],
          "name": "stdout"
        }
      ]
    },
    {
      "cell_type": "code",
      "metadata": {
        "id": "kPCC2l2W2QE5",
        "colab_type": "code",
        "colab": {}
      },
      "source": [
        ""
      ],
      "execution_count": null,
      "outputs": []
    }
  ]
}