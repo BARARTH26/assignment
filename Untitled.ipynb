{
  "nbformat": 4,
  "nbformat_minor": 0,
  "metadata": {
    "colab": {
      "name": "Untitled",
      "provenance": []
    },
    "kernelspec": {
      "name": "python3",
      "display_name": "Python 3"
    }
  },
  "cells": [
    {
      "cell_type": "markdown",
      "metadata": {
        "id": "wThO_PxzTWes",
        "colab_type": "text"
      },
      "source": [
        "Hi, My Name is PERIYASAMY.P, From Coimbatore(TAMILNADU).\n",
        "\n",
        "This is day 2- ASSIGNMENT 1\n",
        "\n",
        "LIST DATATYPES with Functions"
      ]
    },
    {
      "cell_type": "code",
      "metadata": {
        "id": "_dsdTdxTThUm",
        "colab_type": "code",
        "colab": {
          "base_uri": "https://localhost:8080/",
          "height": 34
        },
        "outputId": "b86b51bb-652c-4125-b583-ded8c8e8417b"
      },
      "source": [
        "list1 = [2,5,3,7,12,98]\n",
        "list1.sort()               #sort the list\n",
        "list1\n"
      ],
      "execution_count": 5,
      "outputs": [
        {
          "output_type": "execute_result",
          "data": {
            "text/plain": [
              "[2, 3, 5, 7, 12, 98]"
            ]
          },
          "metadata": {
            "tags": []
          },
          "execution_count": 5
        }
      ]
    },
    {
      "cell_type": "code",
      "metadata": {
        "id": "Bv9sSVF9ToKT",
        "colab_type": "code",
        "colab": {
          "base_uri": "https://localhost:8080/",
          "height": 51
        },
        "outputId": "ffd16d25-54f2-460d-c450-ef3304f60113"
      },
      "source": [
        "lst1 = [2,3,56,34,91,]\n",
        "lst2 = [23,45,74,12,78]\n",
        "print(max(lst1))      #find the max and min value\n",
        "print(min(lst2))\n"
      ],
      "execution_count": 7,
      "outputs": [
        {
          "output_type": "stream",
          "text": [
            "91\n",
            "12\n"
          ],
          "name": "stdout"
        }
      ]
    },
    {
      "cell_type": "code",
      "metadata": {
        "id": "ImHKcHrLUSoK",
        "colab_type": "code",
        "colab": {
          "base_uri": "https://localhost:8080/",
          "height": 34
        },
        "outputId": "cb71cbf8-5570-4147-c027-e30c79782768"
      },
      "source": [
        "lst1 = [2,3,56,34,91,]\n",
        "lst2 = [23,45,74,12,78]\n",
        "lst1.extend(lst2)      #extend the list\n",
        "print(lst1)"
      ],
      "execution_count": 8,
      "outputs": [
        {
          "output_type": "stream",
          "text": [
            "[2, 3, 56, 34, 91, 23, 45, 74, 12, 78]\n"
          ],
          "name": "stdout"
        }
      ]
    },
    {
      "cell_type": "code",
      "metadata": {
        "id": "EWZX-FLPVDCj",
        "colab_type": "code",
        "colab": {
          "base_uri": "https://localhost:8080/",
          "height": 34
        },
        "outputId": "7594c4a2-5cdf-4616-89a0-7f02391a8fbb"
      },
      "source": [
        "data = [12,23,45,56,67]\n",
        "data.insert(2,34)      #insert the value in particular place\n",
        "data\n"
      ],
      "execution_count": 10,
      "outputs": [
        {
          "output_type": "execute_result",
          "data": {
            "text/plain": [
              "[12, 23, 34, 45, 56, 67]"
            ]
          },
          "metadata": {
            "tags": []
          },
          "execution_count": 10
        }
      ]
    },
    {
      "cell_type": "markdown",
      "metadata": {
        "id": "HZM0p-nBV0Sn",
        "colab_type": "text"
      },
      "source": [
        "**STRING DATA TYPES** with Functions"
      ]
    },
    {
      "cell_type": "code",
      "metadata": {
        "id": "ZAPDQL53Vg0D",
        "colab_type": "code",
        "colab": {
          "base_uri": "https://localhost:8080/",
          "height": 34
        },
        "outputId": "acf6ace8-bc04-43ae-b0b2-98d374604bff"
      },
      "source": [
        "strg = \"how are you sai\"\n",
        "print(strg)"
      ],
      "execution_count": 22,
      "outputs": [
        {
          "output_type": "stream",
          "text": [
            "how are you sai\n"
          ],
          "name": "stdout"
        }
      ]
    },
    {
      "cell_type": "code",
      "metadata": {
        "id": "pNAuA4CUWPNL",
        "colab_type": "code",
        "colab": {
          "base_uri": "https://localhost:8080/",
          "height": 35
        },
        "outputId": "3ae1dc36-8682-440b-f372-9e69e947c8bb"
      },
      "source": [
        "strg.capitalize()"
      ],
      "execution_count": 23,
      "outputs": [
        {
          "output_type": "execute_result",
          "data": {
            "application/vnd.google.colaboratory.intrinsic+json": {
              "type": "string"
            },
            "text/plain": [
              "'How are you sai'"
            ]
          },
          "metadata": {
            "tags": []
          },
          "execution_count": 23
        }
      ]
    },
    {
      "cell_type": "code",
      "metadata": {
        "id": "saFH5tvcWJYE",
        "colab_type": "code",
        "colab": {
          "base_uri": "https://localhost:8080/",
          "height": 34
        },
        "outputId": "f9d450bc-c267-46d8-bf70-40b99688bdef"
      },
      "source": [
        "strg.split()"
      ],
      "execution_count": 24,
      "outputs": [
        {
          "output_type": "execute_result",
          "data": {
            "text/plain": [
              "['how', 'are', 'you', 'sai']"
            ]
          },
          "metadata": {
            "tags": []
          },
          "execution_count": 24
        }
      ]
    },
    {
      "cell_type": "code",
      "metadata": {
        "id": "wpIWZwtmWek7",
        "colab_type": "code",
        "colab": {
          "base_uri": "https://localhost:8080/",
          "height": 35
        },
        "outputId": "9c37975d-0677-4870-aa6a-927fcaeb5111"
      },
      "source": [
        "strg.replace(\"how are you sai\",\"are you fine\")"
      ],
      "execution_count": 25,
      "outputs": [
        {
          "output_type": "execute_result",
          "data": {
            "application/vnd.google.colaboratory.intrinsic+json": {
              "type": "string"
            },
            "text/plain": [
              "'are you fine'"
            ]
          },
          "metadata": {
            "tags": []
          },
          "execution_count": 25
        }
      ]
    },
    {
      "cell_type": "code",
      "metadata": {
        "id": "f1JjVUsMWy4u",
        "colab_type": "code",
        "colab": {
          "base_uri": "https://localhost:8080/",
          "height": 34
        },
        "outputId": "b3ad4359-4a39-480d-b686-8a960d63c01e"
      },
      "source": [
        "strg.find(\"w\")"
      ],
      "execution_count": 26,
      "outputs": [
        {
          "output_type": "execute_result",
          "data": {
            "text/plain": [
              "2"
            ]
          },
          "metadata": {
            "tags": []
          },
          "execution_count": 26
        }
      ]
    },
    {
      "cell_type": "markdown",
      "metadata": {
        "id": "iOJVg0xlXEsO",
        "colab_type": "text"
      },
      "source": [
        "**DICTIONARY DATA TYPES** with function"
      ]
    },
    {
      "cell_type": "code",
      "metadata": {
        "id": "jkvxS0kGW6FY",
        "colab_type": "code",
        "colab": {
          "base_uri": "https://localhost:8080/",
          "height": 34
        },
        "outputId": "84a74eae-e028-4ce3-d64c-ded371d60fa3"
      },
      "source": [
        "my_dict = {\"fantin\": 30,\"selva\":21,\"dhanush\":18}\n",
        "print(sorted(my_dict))"
      ],
      "execution_count": 18,
      "outputs": [
        {
          "output_type": "stream",
          "text": [
            "['dhanush', 'fantin', 'selva']\n"
          ],
          "name": "stdout"
        }
      ]
    },
    {
      "cell_type": "code",
      "metadata": {
        "id": "s6dklXM2XrwT",
        "colab_type": "code",
        "colab": {
          "base_uri": "https://localhost:8080/",
          "height": 34
        },
        "outputId": "b490d330-8c17-4318-83af-8c33d5656444"
      },
      "source": [
        "print(len(my_dict))"
      ],
      "execution_count": 19,
      "outputs": [
        {
          "output_type": "stream",
          "text": [
            "3\n"
          ],
          "name": "stdout"
        }
      ]
    },
    {
      "cell_type": "code",
      "metadata": {
        "id": "-VoYCLD-Z3fR",
        "colab_type": "code",
        "colab": {
          "base_uri": "https://localhost:8080/",
          "height": 34
        },
        "outputId": "b80d72ad-0e9c-4de2-9512-ca44d8736f3b"
      },
      "source": [
        "list ={\"barth\":21,\"venkat\":\"17\"}\n",
        "my_dict.update(list)\n",
        "print(my_dict)"
      ],
      "execution_count": 38,
      "outputs": [
        {
          "output_type": "stream",
          "text": [
            "{'fantin': 30, 'selva': 21, 'dhanush': 18, 'barth': 21, 'venkat': '17'}\n"
          ],
          "name": "stdout"
        }
      ]
    },
    {
      "cell_type": "code",
      "metadata": {
        "id": "4vuVHKUsaXvl",
        "colab_type": "code",
        "colab": {
          "base_uri": "https://localhost:8080/",
          "height": 34
        },
        "outputId": "32afab67-2b05-457f-e31a-4963e6839423"
      },
      "source": [
        "print(my_dict.keys())"
      ],
      "execution_count": 39,
      "outputs": [
        {
          "output_type": "stream",
          "text": [
            "dict_keys(['fantin', 'selva', 'dhanush', 'barth', 'venkat'])\n"
          ],
          "name": "stdout"
        }
      ]
    },
    {
      "cell_type": "markdown",
      "metadata": {
        "id": "PI4JtFs9bR1m",
        "colab_type": "text"
      },
      "source": [
        "**SET DATATYPES**with Funtion"
      ]
    },
    {
      "cell_type": "code",
      "metadata": {
        "id": "hSiYMdL1bEbu",
        "colab_type": "code",
        "colab": {
          "base_uri": "https://localhost:8080/",
          "height": 68
        },
        "outputId": "94a23ad3-c828-421a-97a7-d1ebcb44a68e"
      },
      "source": [
        "a= {1,3,5,7,9,11,13}\n",
        "print(a)\n",
        "a.add(4)\n",
        "print(a)\n",
        "a.add(10)\n",
        "print(a)"
      ],
      "execution_count": 44,
      "outputs": [
        {
          "output_type": "stream",
          "text": [
            "{1, 3, 5, 7, 9, 11, 13}\n",
            "{1, 3, 4, 5, 7, 9, 11, 13}\n",
            "{1, 3, 4, 5, 7, 9, 10, 11, 13}\n"
          ],
          "name": "stdout"
        }
      ]
    },
    {
      "cell_type": "code",
      "metadata": {
        "id": "d204oBYWbwRN",
        "colab_type": "code",
        "colab": {
          "base_uri": "https://localhost:8080/",
          "height": 51
        },
        "outputId": "a3ecd31e-c811-4347-b94b-3c157aea510d"
      },
      "source": [
        "a={1,3,5,7,9}\n",
        "print(a)\n",
        "a.clear()\n",
        "print(a)"
      ],
      "execution_count": 46,
      "outputs": [
        {
          "output_type": "stream",
          "text": [
            "{1, 3, 5, 7, 9}\n",
            "set()\n"
          ],
          "name": "stdout"
        }
      ]
    },
    {
      "cell_type": "code",
      "metadata": {
        "id": "QKRGe907b94X",
        "colab_type": "code",
        "colab": {
          "base_uri": "https://localhost:8080/",
          "height": 51
        },
        "outputId": "daf25528-0dcb-465e-b09a-486d096368fa"
      },
      "source": [
        "a={1,2,3,4,5,6}\n",
        "print(a)\n",
        "a.pop()\n",
        "print(a)"
      ],
      "execution_count": 47,
      "outputs": [
        {
          "output_type": "stream",
          "text": [
            "{1, 2, 3, 4, 5, 6}\n",
            "{2, 3, 4, 5, 6}\n"
          ],
          "name": "stdout"
        }
      ]
    },
    {
      "cell_type": "markdown",
      "metadata": {
        "id": "D4VdiT68ccHh",
        "colab_type": "text"
      },
      "source": [
        "**TUPLE DATATYPES **with functions\n",
        "\n",
        "Tuple is as same as list and here not modify the data like list\n"
      ]
    },
    {
      "cell_type": "code",
      "metadata": {
        "id": "4JpypNJxcRWP",
        "colab_type": "code",
        "colab": {
          "base_uri": "https://localhost:8080/",
          "height": 51
        },
        "outputId": "90a234fd-0f6e-4e10-8ac8-3d564f5a2e87"
      },
      "source": [
        "c = [1,2,3,4,5,6]\n",
        "print(c)\n",
        "print(c[4])\n"
      ],
      "execution_count": 51,
      "outputs": [
        {
          "output_type": "stream",
          "text": [
            "[1, 2, 3, 4, 5, 6]\n",
            "5\n"
          ],
          "name": "stdout"
        }
      ]
    },
    {
      "cell_type": "code",
      "metadata": {
        "id": "BcacJCB5dj6E",
        "colab_type": "code",
        "colab": {}
      },
      "source": [
        ""
      ],
      "execution_count": null,
      "outputs": []
    }
  ]
}